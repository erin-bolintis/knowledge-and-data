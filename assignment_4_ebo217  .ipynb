{
 "cells": [
  {
   "cell_type": "markdown",
   "metadata": {},
   "source": [
    "# Knowledge and Data: Practical Assignment 4 \n",
    "## Modelling in OWL "
   ]
  },
  {
   "cell_type": "markdown",
   "metadata": {},
   "source": [
    "- YOUR NAME: Erin Bolintis\n",
    "\n",
    "- YOUR VUNetID: ebo217\n",
    "\n",
    "*(If you do not provide your NAME and VUNetID we will not accept your submission.)*"
   ]
  },
  {
   "cell_type": "markdown",
   "metadata": {},
   "source": [
    "For this assignment you will be engineering and reasoning over your very own OWL ontology.\n",
    "\n",
    "You are free to choose the domain (subject) of the ontology you are going to build (e.g. on nutritional value, recipes, supermarkets, food safety, health, restaurants, planes, trains and automobiles, developing countries, modern slavery, political parties, refugees, you name it...). Just be creative and choose a domain we have not seen in class yet. \n",
    "\n",
    "We expect extensive answers for this assignment: give a full account of what you did, such that a peer would be able to reproduce your ontology. This means that you must explicitly state the new axioms and that we expect you to motivate your choices (usually 1-3 lines).\n",
    "\n",
    "Note that all notebooks will automatically be checked for plagiarism: while similar answers can be expected, it is not allowed to directly copy the solutions from fellow students or TAs, or from the examples discussed during the lectures. Similarly, sharing your solutions with your peers is not allowed.\n",
    "\n",
    "NB: the use of Python is not allowed for this assignment: if you add a new cell, make sure it is of the type *markdown* (see the pull-down menu at the top).\n",
    "\n",
    "**IMPORTANT: You will have to hand in your ontology (as ttl) together with the notebook**"
   ]
  },
  {
   "cell_type": "markdown",
   "metadata": {},
   "source": [
    "### Learning objectives"
   ]
  },
  {
   "cell_type": "markdown",
   "metadata": {},
   "source": [
    "At the end of this exercise you should be able to build and ontology and to reason over it: \n",
    "1. You will be able to engineer an OWL ontology\n",
    "2. You will be able to conceptualize a (small) domain\n",
    "3. You will be able use conditions and property characteristics\n",
    "4. You will be able to use a reasoner to infer implicit knowledge\n",
    "5. You will be able to work in Protégé\n"
   ]
  },
  {
   "cell_type": "markdown",
   "metadata": {},
   "source": [
    "### Preliminaries\n",
    "\n",
    "There are several tools which can be used to create and edit RDF and OWL files (in addition to your favourite text-based editor). For this assignment we urge you to use the open-source tool [Protégé](https://protege.stanford.edu), which is a stand-alone editor that is very much tailored towards OWL ontology editing.\n",
    "\n",
    "To install Protégé on your system, please take a look at the [installation instructions](https://protegeproject.github.io/protege/installation/).\n",
    " \n",
    "Protégé is a complex tool with many options, only few of which we will need for this assignment. There are various resources available to get you started:\n",
    "\n",
    "- Watch a short [Protégé Screencast Tutorial](https://vimeo.com/183829740) (created by Rinke Hoekstra)\n",
    "- Check out the [Practical Guide To Building OWL Ontologies Using Protégé 5](https://www.researchgate.net/publication/351037551_A_Practical_Guide_to_Building_OWL_Ontologies_Using_Protege_55_and_Plugins) that uses the [Pizza ontology](https://protege.stanford.edu/ontologies/pizza/pizza.owl) to describe how to create ontologies using Protégé.\n",
    "- Check the [Assignment 4 document](https://docs.google.com/document/d/1Dw2winjfr2TJq3r1q6ZRpud9Qn--tq4ioWDqiBdrrzI) containing Tips & Recommendations on how to create ontologies."
   ]
  },
  {
   "cell_type": "markdown",
   "metadata": {},
   "source": [
    "### Task 1 (10 Points) : Creating an empty ontology\n",
    "\n",
    "Create a new empty ontology in Protégé.\n",
    "\n",
    "Be sure to:\n",
    "- Choose your own unique namespace and prefix  (these do not have to exist)\n",
    "- Add metadata in the form of *rdfs:label*, *dc:creator* (http://purl.org/dc/elements/1.1/creator), and *dc:description* (http://purl.org/dc/elements/1.1/description) annotations.  \n",
    "  Use *dc:description* to describe the domain and target audience of your ontology.\n",
    "\n",
    "Write down the namespace, its prefix, and the metadata that you have added in the textfield below:"
   ]
  },
  {
   "cell_type": "markdown",
   "metadata": {},
   "source": [
    "Namespace: http://www.semanticweb.org/erinbolintis/ontologies/2023/9/ErinOntology \n",
    "Prefix:erinont\n",
    "\n",
    "Metadata:\n",
    "dfs:label: \"Erin's Ontology\"\n",
    "dc:creator: \"Erin Bolintis\" \n",
    "dc:description: \"This ontology defines concepts and relationships related to supply chain management, including products, suppliers, logistics, and demand forecasting. It is intended to assist supply chain professionals, including supply chain managers and analysts, in optimizing supply chain processes and decision-making\""
   ]
  },
  {
   "cell_type": "markdown",
   "metadata": {},
   "source": [
    "### Task 2a (10 Points) : Populating your ontology\n",
    "\n",
    "Populate your ontology such that it contains at least\n",
    "- six classes\n",
    "- four datatype properties\n",
    "- four object properties\n",
    "\n",
    "For **each** class, create **two** example instances:\n",
    "- assert one instance as a member of this class (i.e. using *rdf:type*).\n",
    "- leave the second instance without any type.\n",
    "\n",
    "Your ontology should now have at least 12 instances: six instances with a certain *rdf:type*, and six instances without any *rdf:type*.\n",
    "\n",
    "List and describe the classes and properties that you created in the textfield below, together with their instances. Don't forget to motivate your choices."
   ]
  },
  {
   "cell_type": "markdown",
   "metadata": {},
   "source": [
    "Class Name: SupplyChainItem  \n",
    "Description: This class represents individual items within the supply chain, such as products or materials. \n",
    "Instances:  \n",
    "- ItemA (rdf:type SupplyChainItem)\n",
    "- ItemB\n",
    "\n",
    "Class Name: Supplier  \n",
    "Description: This class represents suppliers in the supply chain.\n",
    "Instances:  \n",
    "-  SupplierX (rdf:type Supplier)\n",
    "-  SupplierY\n",
    "\n",
    "\n",
    "Class Name: LogisticsProvider \n",
    "Description: This class represents logistics service providers in the supply chain.\n",
    "Instances:\n",
    "- LogisticsCompanyA (rdf:type LogisticsProvider)\n",
    "- LogisticsCompanyB\n",
    "\n",
    "Class Name: DemandForecast\n",
    "Description: This class represents forecasts for demand in the supply chain.\n",
    "Instances:\n",
    "- ForecastQ1 (rdf:type DemandForecast)\n",
    "- ForecastQ2\n",
    "\n",
    "Class Name:  SupplyChainManager\n",
    "Description: This class represents supply chain managers.\n",
    "Instances:\n",
    "- ManagerJohn (rdf:type SupplyChainManager)\n",
    "- ManagerSarah\n",
    "\n",
    "Class Name: Analyst \n",
    "Description: This class represents supply chain analysts.\n",
    "Instances:\n",
    "- AnalystBob (rdf:type Analyst)\n",
    "- AnalystAlice\n",
    "\n",
    "\n",
    "Property Name: hasProductName\n",
    "Description: This property relates an item to its product name. \n",
    "Domain: SupplyChainItem\n",
    "Range: xsd:string\n",
    "\n",
    "Property Name: hasPrice\n",
    "Description: This property relates an item to its price.\n",
    "Domain: SupplyChainItem\n",
    "Range: xsd:float\n",
    "\n",
    "Property Name: hasForecastValue\n",
    "Description: This property relates a demand forecast to its numerical value.\n",
    "Domain: DemandForecast \n",
    "Range: xsd:int\n",
    "\n",
    "Property Name: hasManagerName\n",
    "Description: This property relates a supply chain manager to their name.\n",
    "Domain: SupplyChainManager\n",
    "Range: xsd:string\n",
    "\n"
   ]
  },
  {
   "cell_type": "markdown",
   "metadata": {},
   "source": [
    "### Task 2b (10 Points) : Asserting properties\n",
    " \n",
    "For *each* instance:\n",
    "- assert at least one datatype property (e.g. ex:instanceA *ex:hasFullName* \"Some Full Name\"). \n",
    "- assert at least one object property, relating instances to each other (e.g.  ex:instanceA *ex:attendsCourse* ex:instanceB) \n",
    "\n",
    "List and describe 4 statements from your ontology, containing 4 different object property assertions:"
   ]
  },
  {
   "cell_type": "markdown",
   "metadata": {},
   "source": [
    "Object Property Assertion:\n",
    "   - Subject: erinont:ItemA\n",
    "   - Predicate: erinont:supplies\n",
    "   - Object: erinont:SupplierX\n",
    "   - Description: \"ItemA is supplied by SupplierX.\"\n",
    "\n",
    "Object Property Assertion:\n",
    "   - Subject: erinont:ItemB\n",
    "   - Predicate: erinont:supplies\n",
    "   - Object: erinont:SupplierY\n",
    "   - Description: \"ItemB is supplied by SupplierY.\"\n",
    "\n",
    "Object Property Assertion:\n",
    "   - Subject: erinont:ItemA\n",
    "   - Predicate: erinont:usesLogistics\n",
    "   - Object: erinont:LogisticsCompanyA\n",
    "   - Description: \"ItemA uses the logistics services provided by LogisticsCompanyA.\"\n",
    "\n",
    "Object Property Assertion:\n",
    "   - Subject: erinont:ManagerJohn\n",
    "   - Predicate: erinont:managedBy\n",
    "   - Object: erinont:ItemA\n",
    "   - Description: \"ManagerJohn is responsible for managing ItemA.\"\n",
    "\n"
   ]
  },
  {
   "cell_type": "markdown",
   "metadata": {},
   "source": [
    "List and describe 4 statements from your ontology, containing 4 different datatype property assertions:"
   ]
  },
  {
   "cell_type": "markdown",
   "metadata": {},
   "source": [
    "Datatype Property Assertion:\n",
    "   - Subject: erinont:ItemA\n",
    "   - Predicate: erinont:hasProductName\n",
    "   - Object: \"ProductA\"\n",
    "   - Description: \"ItemA has the product name 'ProductA'.\"\n",
    "\n",
    "Datatype Property Assertion:\n",
    "   - Subject: erinont:ItemB\n",
    "   - Predicate: erinont:hasProductName\n",
    "   - Object: \"ProductB\"\n",
    "   - Description: \"ItemB has the product name 'ProductB'.\"\n",
    "\n",
    "Datatype Property Assertion:\n",
    "   - Subject: erinont:ForecastQ1\n",
    "   - Predicate: erinont:hasForecastValue\n",
    "   - Object: \"100\" (as an integer)\n",
    "   - Description: \"ForecastQ1 has a forecast value of 100.\"\n",
    "\n",
    "Datatype Property Assertion:\n",
    "   - Subject: erinont:ManagerJohn\n",
    "   - Predicate: erinont:hasManagerName\n",
    "   - Object: \"John Doe\"\n",
    "   - Description: \"ManagerJohn's name is 'John Doe'.\"\n",
    "\n"
   ]
  },
  {
   "cell_type": "markdown",
   "metadata": {},
   "source": [
    "---\n",
    "### The reasoner\n",
    "\n",
    "The questions following this point make use of Protégé reasoning capabilities, which are available via plugins but which are disabled by default. Install (if necessary) and start the *Pellet* reasoner before you continue with the next question.\n",
    "\n",
    "Refer to page 15 of the [Protégé guide](https://www.researchgate.net/publication/351037551_A_Practical_Guide_to_Building_OWL_Ontologies_Using_Protege_55_and_Plugins) for instructions on how to install and run the reasoner. A version of this guide is also available on the GitHub page of the course.\n",
    "\n",
    "---"
   ]
  },
  {
   "cell_type": "markdown",
   "metadata": {},
   "source": [
    "### Task 3 (10 Points): Reasoning on a basic ontology\n",
    "\n",
    "All assertions that were addded up til now were explicit. Yet, it is certainly possible that your ontology also contains one or more *implicit* assertions, that have emerged from the interactions between the added explicit assertions. \n",
    "\n",
    "Run the reasoner on your yet-basic ontology and write down the inferences occurred (if any) below:"
   ]
  },
  {
   "cell_type": "markdown",
   "metadata": {},
   "source": [
    "\"ItemA\" is inferred to be of type \"SupplyChainItem.\"\n",
    "\"ItemB\" is inferred to be of type \"SupplyChainItem.\"\n",
    "\"SupplierX\" is inferred to be of type \"Supplier.\""
   ]
  },
  {
   "cell_type": "markdown",
   "metadata": {},
   "source": [
    "Write down the different steps of the reasoning process (ie, what happened when you ran the reasoner. Think in terms of _set theory_, _axioms_, and _inferencing_, amongst others)."
   ]
  },
  {
   "cell_type": "markdown",
   "metadata": {},
   "source": [
    "Loading the Ontology:\n",
    "   - The reasoner starts by loading your ontology, parsing its RDF/OWL representation, and building an internal representation of the ontology's classes, individuals, properties, and axioms.\n",
    "\n",
    "Class Hierarchy Inference:\n",
    "   - The reasoner identifies subclass relationships based on the ontology's explicit subclass assertions. For example, if \"SupplyChainManager\" is explicitly defined as a subclass of \"Manager,\" the reasoner infers that \"SupplyChainManager\" is also a subclass of \"Manager.\"\n",
    "\n",
    "Individual Type Inference:\n",
    "   - The reasoner determines the inferred types of individuals based on explicit type assertions. If you've asserted that \"ItemA\" is of type \"SupplyChainItem,\" the reasoner infers that \"ItemA\" is indeed of type \"SupplyChainItem.\"\n",
    "\n",
    "Property Inference:\n",
    "   - The reasoner infers property relationships between individuals based on explicit property assertions. For instance, if you've specified that \"ItemA\" supplies \"SupplierX,\" the reasoner infers this relationship.\n",
    "\n",
    "Transitive Property Inference:\n",
    "   - The reasoner applies transitive properties, if defined in the ontology. If \"A\" supplies \"B\" and \"B\" supplies \"C,\" the reasoner infers transitively that \"A\" supplies \"C.\"\n",
    "\n",
    "Equivalent Classes Evaluation:\n",
    "   - The reasoner evaluates if classes have been defined as equivalent. If classes \"SupplyChainItem\" and \"Item\" are explicitly defined as equivalent, the reasoner treats them as interchangeable.\n",
    "\n",
    "Individual Equality Identification:\n",
    "   - The reasoner identifies when two individuals are equivalent or the same based on property assertions. If two individuals have the same product name, price, or other shared properties, the reasoner infers their equality.\n",
    "\n",
    "Property Chain Application:\n",
    "   - The reasoner can apply property chains to infer new relationships between individuals based on specified property chains.\n",
    "\n",
    "Disjointness Evaluation:\n",
    "   - The reasoner identifies when classes are disjoint, meaning instances cannot belong to more than one of these disjoint classes if this constraint has been explicitly defined in the ontology.\n",
    "\n",
    "Generating the Inferred Ontology:\n",
    "    - The reasoner generates an inferred ontology that includes all the inferred axioms, subclass relationships, and property assertions based on the reasoning process.\n",
    "\n",
    "Inferred Knowledge Retrieval:\n",
    "    - Users can query the inferred ontology to retrieve implicit knowledge and relationships that have been inferred from the explicit ontology.\n",
    "\n"
   ]
  },
  {
   "cell_type": "markdown",
   "metadata": {},
   "source": [
    "### Task 4a (10 Points): Necessary and sufficient conditions \n",
    "\n",
    "Select two classes from your ontology.  \n",
    "For **both** classes:\n",
    "- add at least one *necessary* **and** one *necessary and sufficient* condition\n",
    "  (e.g. engineers are people who hold an engineering degree, and any person holding an engineering degree is an engineer)\n",
    "- infer class membership of *at least* one instance using each condition \n",
    "  \n",
    "List and describe the four (or more) conditions that you have added (i.e. axioms) in the textfield below. Do not forget to motivate your choices."
   ]
  },
  {
   "cell_type": "markdown",
   "metadata": {},
   "source": [
    "For \"SupplyChainItem\":\n",
    "\n",
    "Necessary Condition:\n",
    "Condition: SupplyChainItem <= hasProductName some xsd:string\n",
    "Description: It is necessary for an individual to be a \"SupplyChainItem\" that it has a product name specified as a string. This condition ensures that every supply chain item is associated with a product name.\n",
    "\n",
    "Necessary and Sufficient Condition:\n",
    "Condition: SupplyChainItem = hasPrice some xsd:float\n",
    "Description: An individual is a \"SupplyChainItem\" if and only if it has a price specified as a float. This condition defines that a supply chain item must have a price, and having a price is both necessary and sufficient to be classified as a \"SupplyChainItem.\"\n",
    "\n",
    "\n",
    "For \"Supplier\":\n",
    "\n",
    "Necessary Condition:\n",
    "Condition: Supplier <= rdf:type some owl:Thing\n",
    "Description: It is necessary for an individual to be a \"Supplier\" that it is an instance of some OWL class (any class). This condition ensures that a supplier must be an instance of some class in the ontology but does not specify the exact class.\n",
    "\n",
    "Necessary and Sufficient Condition:\n",
    "Condition: Supplier = supplies some SupplyChainItem\n",
    "Description: An individual is a \"Supplier\" if and only if it supplies some \"SupplyChainItem.\" This condition defines that being a supplier is both necessary and sufficient for an individual if they supply a supply chain item."
   ]
  },
  {
   "cell_type": "markdown",
   "metadata": {},
   "source": [
    "### Task 4b (10 Points): Reasoning over conditions\n",
    "\n",
    "Run the reasoner once again (after having added the conditions).\n",
    "\n",
    "Write down and explain the resulting inferences below."
   ]
  },
  {
   "cell_type": "markdown",
   "metadata": {},
   "source": [
    "Inference 1: \"ItemA\" is inferred to be of type \"SupplyChainItem.\"\n",
    "Explanation: The reasoner infers this because \"ItemA\" satisfies the necessary and sufficient condition for \"SupplyChainItem,\" which is having a price specified as a float. Since \"ItemA\" has a price (as per the condition), it is inferred to be a \"SupplyChainItem.\"\n",
    "\n",
    "Inference 2: \"ItemB\" is not explicitly inferred to be of type \"SupplyChainItem\" since it lacks a price, which is the necessary and sufficient condition.\n",
    "\n",
    "Inference 3: \"SupplierX\" is not explicitly inferred to be of type \"Supplier\" since it is missing the necessary condition (rdf:type some owl:Thing), which means it must be an instance of some OWL class. This condition was not satisfied in my ontology.\n",
    "\n",
    "Inference 4: No inference is made for the \"SupplyChainManager\" class because I didn't apply the conditions to this class."
   ]
  },
  {
   "cell_type": "markdown",
   "metadata": {},
   "source": [
    "### Task 5a (10 Points): Property characteristics\n",
    "\n",
    "Add at least **four** different OWL property characteristics.\n",
    "\n",
    "Examples are\n",
    "- transitivity\n",
    "- symmetricity\n",
    "- functionality\n",
    "- (ir)reflexivity\n",
    "- property chain\n",
    "- disjoint properties\n",
    "- etc\n",
    "\n",
    "All four different characteristics can be asserted on one property (or on four different properties).\n",
    "\n",
    "List and describe the four (or more) property characteristics you defined (i.e. axioms) in the textfield below. Do not forget to motivate your choices."
   ]
  },
  {
   "cell_type": "markdown",
   "metadata": {},
   "source": [
    "Transitivity on \"supplies\" Property:\n",
    "- Characteristic: Transitive\n",
    "- Axiom: Property: erinont:supplies\n",
    "         Characteristic: Transitive\n",
    "- Description: By asserting transitivity on the \"supplies\" property, we specify that if \"A\" supplies \"B\" and \"B\" supplies \"C,\" then it can be inferred that \"A\" supplies \"C.\" This characteristic makes sense in supply chain management where the transitive nature of supply relationships is important. For example, if a manufacturer supplies to a distributor, and the distributor supplies to a retailer, we can infer that the manufacturer indirectly supplies to the retailer.\n",
    "\n",
    "Symmetricity on \"hasManager\" Property:\n",
    "- Characteristic: Symmetric\n",
    "- Axiom: Property: erinont:hasManager\n",
    "         Characteristic: Symmetric\n",
    "- Description: By making the \"hasManager\" property symmetric, we indicate that if \"ManagerJohn\" has \"ItemA\" as their managed item, then it also implies that \"ItemA\" has \"ManagerJohn\" as its manager. This characteristic reflects the bi-directional nature of the manager-item relationship.\n",
    "\n",
    "Disjoint Properties on \"usesLogistics\" and \"supplies\" Properties:\n",
    "- Characteristic: Disjoint Properties\n",
    "- Axiom: Properties: erinont:usesLogistics, erinont:supplies\n",
    "         Characteristic: Disjoint Properties\n",
    "- Description: By asserting that \"usesLogistics\" and \"supplies\" are disjoint properties, we specify that an item cannot both use logistics services and be supplied by the same supplier. This characteristic enforces a logical constraint in the ontology, ensuring that these two properties are mutually exclusive.\n",
    "\n",
    "Inverse Functional Property on \"hasManager\" Property:\n",
    "- Characteristic: Inverse Functional Property\n",
    "- Axiom: Property: erinont:hasManager\n",
    "         Characteristic: Inverse Functional Property\n",
    "- Description: By making the \"hasManager\" property inverse functional, we ensure that each item can have only one manager. This characteristic enforces uniqueness in the manager-item relationship, preventing multiple managers for the same item. In supply chain management, it's often essential to have a single responsible manager for each item.\n",
    "\n"
   ]
  },
  {
   "cell_type": "markdown",
   "metadata": {},
   "source": [
    "### Task 5b (10 Points): Reasoning over properties\n",
    "\n",
    "Run the reasoner once again (after having added the properties).\n",
    "\n",
    "Write down and explain the resulting inferences below."
   ]
  },
  {
   "cell_type": "markdown",
   "metadata": {},
   "source": [
    "Transitive Property Inference on \"supplies\" Property:\n",
    "- Inference: If \"A\" supplies \"B\" and \"B\" supplies \"C,\" then it can be inferred that \"A\" supplies \"C.\"\n",
    "- Explanation: This inference is a direct consequence of asserting the transitive characteristic on the \"supplies\" property. It ensures that supply relationships maintain transitivity, which is a common requirement in supply chain management.\n",
    "\n",
    "Symmetric Property Inference on \"hasManager\" Property:\n",
    "- Inference: If \"ManagerJohn\" has \"ItemA\" as their managed item, then it implies that \"ItemA\" has \"ManagerJohn\" as its manager.\n",
    "- Explanation: This inference is due to the symmetric property characteristic applied to the \"hasManager\" property. It enforces a bidirectional relationship between managers and their managed items, allowing for easy retrieval of managers for specific items and vice versa.\n",
    "\n",
    "Disjoint Property Inference between \"usesLogistics\" and \"supplies\" Properties:\n",
    "- Inference: Items that use logistics services and items that are supplied by a supplier cannot have the same supplier.\n",
    "- Explanation: This inference arises from the disjoint property characteristic between \"usesLogistics\" and \"supplies.\" It ensures that an item cannot both use logistics services and be supplied by the same supplier, preventing contradictory relationships in the ontology.\n",
    "\n",
    "Inverse Functional Property Inference on \"hasManager\" Property:\n",
    "- Inference: Each item can have only one manager.\n",
    "- Explanation: This inference results from the inverse functional property characteristic applied to the \"hasManager\" property. It enforces uniqueness in the manager-item relationship, ensuring that each item has a single responsible manager. This constraint is crucial in supply chain management for clear accountability.\n"
   ]
  },
  {
   "cell_type": "markdown",
   "metadata": {},
   "source": [
    "### Task 6 (10 Points): Saving your ontology\n",
    "\n",
    "Go over your ontology to ensure that it is consistent and that it meets all requirements as asked through the various questions. Note that there are several [online validators](http://mowl-power.cs.man.ac.uk:8080/validator/) that can help you check your ontology for consistency.\n",
    "\n",
    "Next, export/save your ontology to a file using Turtle as serialization format. Use *save as* to ensure that later modifications won't end up in this file. \n",
    "\n",
    "**Submit this file together with your notebook**"
   ]
  },
  {
   "cell_type": "markdown",
   "metadata": {},
   "source": [
    "### Task 7 (10 Points): An inconsist ontology\n",
    "\n",
    "Add a new axiom to your ontology in such a way that it becomes inconsistent. Note that the added axiom itself *must* be consistent.\n",
    "\n",
    "**IMPORTANT: do not submit this version**\n",
    "\n",
    "List and describe the axiom that you added. Motivate your choice and explain why the ontology became inconsistent."
   ]
  },
  {
   "cell_type": "markdown",
   "metadata": {},
   "source": [
    "Axiom:\n",
    "ItemA hasManager ManagerJohn\n",
    "ItemA hasManager ManagerSarah\n",
    "\n",
    "\n",
    "Description and Motivation:\n",
    "In this axiom, we assert that \"ItemA\" has two managers, \"ManagerJohn\" and \"ManagerSarah.\" This axiom introduces a contradiction because you previously specified the \"hasManager\" property as an \"Inverse Functional Property,\" which means each item can have only one manager. \n",
    "\n",
    "Explanation of Inconsistency:\n",
    "The inconsistency arises from the violation of the \"Inverse Functional Property\" characteristic. By asserting that \"ItemA\" has both \"ManagerJohn\" and \"ManagerSarah\" as managers, we contradict the ontology's constraint that enforces a unique manager for each item. This inconsistency highlights a logical conflict within the ontology, as it cannot simultaneously satisfy the requirement of having a single manager for each item and having multiple managers for \"ItemA.\"\n"
   ]
  },
  {
   "cell_type": "markdown",
   "metadata": {},
   "source": [
    "---\n",
    "\n",
    "## Submitting your answers\n",
    "\n",
    "To submit your answers for this assignment, create a zip-file containing both this notebook and your *consistent* ontology (saved during task 6). Name this zip-file **assignment_4_VUnetID.zip** (where VUnetID is of course to be replaced by your personal VUnetID, eg **rss220**), and submit it via Canvas."
   ]
  }
 ],
 "metadata": {
  "kernelspec": {
   "display_name": "Python 3 (ipykernel)",
   "language": "python",
   "name": "python3"
  },
  "language_info": {
   "codemirror_mode": {
    "name": "ipython",
    "version": 3
   },
   "file_extension": ".py",
   "mimetype": "text/x-python",
   "name": "python",
   "nbconvert_exporter": "python",
   "pygments_lexer": "ipython3",
   "version": "3.8.17"
  }
 },
 "nbformat": 4,
 "nbformat_minor": 4
}
